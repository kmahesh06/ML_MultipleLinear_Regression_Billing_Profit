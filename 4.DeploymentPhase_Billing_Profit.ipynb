{
 "cells": [
  {
   "cell_type": "code",
   "execution_count": 1,
   "id": "97f6e529",
   "metadata": {},
   "outputs": [],
   "source": [
    "#import pickle to call the savemodel in deployment phase file\n",
    "import pickle"
   ]
  },
  {
   "cell_type": "code",
   "execution_count": 10,
   "id": "0b040cb5",
   "metadata": {},
   "outputs": [
    {
     "name": "stdout",
     "output_type": "stream",
     "text": [
      "Enter the amount for Year:2009\n",
      "Enter the amount for R&D Spend:20229.59\n",
      "Enter the amount for Admin Spending:65947.93\n",
      "Enter the amount for Billing:185265.10\n",
      "Enter the amount for Technology_Quality:1\n"
     ]
    },
    {
     "name": "stderr",
     "output_type": "stream",
     "text": [
      "C:\\Users\\Maheshwaran\\anaconda3\\Lib\\site-packages\\sklearn\\base.py:464: UserWarning: X does not have valid feature names, but LinearRegression was fitted with feature names\n",
      "  warnings.warn(\n"
     ]
    }
   ],
   "source": [
    "#read the filename where model is saved in the variable by load function in pickle\n",
    "loaded_model=pickle.load(open(\"finalized_model_Mul_linear_billing_profit.sav\",'rb'))\n",
    "#assign variable to pass the value during runtime\n",
    "Year = int(input(\"Enter the amount for Year:\"))\n",
    "RDSpend = float(input(\"Enter the amount for R&D Spend:\"))\n",
    "AdminSpending = float(input(\"Enter the amount for Admin Spending:\"))\n",
    "Billing = float(input(\"Enter the amount for Billing:\"))\n",
    "Technology_Quality = int(input(\"Enter the amount for Technology_Quality:\"))\n",
    "result = loaded_model.predict([[Year,RDSpend,AdminSpending,Billing,Technology_Quality]])"
   ]
  },
  {
   "cell_type": "code",
   "execution_count": 11,
   "id": "2f34cd61",
   "metadata": {},
   "outputs": [
    {
     "data": {
      "text/plain": [
       "array([[75763.0491906]])"
      ]
     },
     "execution_count": 11,
     "metadata": {},
     "output_type": "execute_result"
    }
   ],
   "source": [
    "result"
   ]
  },
  {
   "cell_type": "code",
   "execution_count": null,
   "id": "d0878a02",
   "metadata": {},
   "outputs": [],
   "source": []
  }
 ],
 "metadata": {
  "kernelspec": {
   "display_name": "Python 3 (ipykernel)",
   "language": "python",
   "name": "python3"
  },
  "language_info": {
   "codemirror_mode": {
    "name": "ipython",
    "version": 3
   },
   "file_extension": ".py",
   "mimetype": "text/x-python",
   "name": "python",
   "nbconvert_exporter": "python",
   "pygments_lexer": "ipython3",
   "version": "3.11.5"
  }
 },
 "nbformat": 4,
 "nbformat_minor": 5
}
